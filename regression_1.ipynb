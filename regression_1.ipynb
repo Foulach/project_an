{
  "nbformat": 4,
  "nbformat_minor": 0,
  "metadata": {
    "colab": {
      "provenance": [],
      "authorship_tag": "ABX9TyOaTDxwpH7n1FS/TYB0VFFO",
      "include_colab_link": true
    },
    "kernelspec": {
      "name": "python3",
      "display_name": "Python 3"
    },
    "language_info": {
      "name": "python"
    }
  },
  "cells": [
    {
      "cell_type": "markdown",
      "metadata": {
        "id": "view-in-github",
        "colab_type": "text"
      },
      "source": [
        "<a href=\"https://colab.research.google.com/github/Foulach/project_an/blob/main/regression_1.ipynb\" target=\"_parent\"><img src=\"https://colab.research.google.com/assets/colab-badge.svg\" alt=\"Open In Colab\"/></a>"
      ]
    },
    {
      "cell_type": "markdown",
      "source": [
        "**Première régression linéaire** : nous retirons l'année, la région et le pays du jeu de données.\n",
        "\n",
        "Le score de bonheur est notre *y* (variable dépendante).\n",
        "Les variables *x* (indépendantes) sont :\n",
        "\n",
        "*   PIB par habitant\n",
        "*   Liberté de faire des choix de vie\n",
        "*   Générosité\n",
        "*   Espérance de vie en bonne santé\n",
        "*   Perceptions de la corruption\n",
        "*   Soutien social\n",
        "\n",
        "Nous conservons les données pour toutes les années (2015 - 2023) sans procéder à aucune agrégation. Ainsi, nous avons une ligne pour chaque combinaison d'année, de pays et d'indicateur.\n"
      ],
      "metadata": {
        "id": "Oo_c--mlwQAr"
      }
    },
    {
      "cell_type": "markdown",
      "source": [
        "## Data Import"
      ],
      "metadata": {
        "id": "At6jsJ7K3sNf"
      }
    },
    {
      "cell_type": "code",
      "source": [
        "# import the dataset from google drive\n",
        "\n",
        "import pandas as pd\n",
        "from google.colab import drive\n",
        "drive.mount('/content/drive')\n",
        "\n",
        "df = pd.read_csv('/content/drive/My Drive/happiness_project/regressions/copie_merged_whr.csv')\n",
        "df.head()"
      ],
      "metadata": {
        "colab": {
          "base_uri": "https://localhost:8080/",
          "height": 343
        },
        "id": "fwzIVlTC31F3",
        "outputId": "5c78f30a-9ffe-458b-f6de-d2a17d65a51a"
      },
      "execution_count": null,
      "outputs": [
        {
          "output_type": "stream",
          "name": "stdout",
          "text": [
            "Drive already mounted at /content/drive; to attempt to forcibly remount, call drive.mount(\"/content/drive\", force_remount=True).\n"
          ]
        },
        {
          "output_type": "execute_result",
          "data": {
            "text/plain": [
              "   year      country                 region  happiness_score  gdp_per_capita  \\\n",
              "0  2015  switzerland         western europe            7.587         1.39651   \n",
              "1  2015      iceland         western europe            7.561         1.30232   \n",
              "2  2015      denmark         western europe            7.527         1.32548   \n",
              "3  2015       norway         western europe            7.522         1.45900   \n",
              "4  2015       canada  north america and anz            7.427         1.32629   \n",
              "\n",
              "   social_support  healthy_life_expectancy  freedom_to_make_life_choices  \\\n",
              "0         1.34951                  0.94143                       0.66557   \n",
              "1         1.40223                  0.94784                       0.62877   \n",
              "2         1.36058                  0.87464                       0.64938   \n",
              "3         1.33095                  0.88521                       0.66973   \n",
              "4         1.32261                  0.90563                       0.63297   \n",
              "\n",
              "   generosity  perceptions_of_corruption  \n",
              "0     0.29678                    0.41978  \n",
              "1     0.43630                    0.14145  \n",
              "2     0.34139                    0.48357  \n",
              "3     0.34699                    0.36503  \n",
              "4     0.45811                    0.32957  "
            ],
            "text/html": [
              "\n",
              "  <div id=\"df-4a3d779c-c519-4cd2-9b6a-4fa03afa5775\" class=\"colab-df-container\">\n",
              "    <div>\n",
              "<style scoped>\n",
              "    .dataframe tbody tr th:only-of-type {\n",
              "        vertical-align: middle;\n",
              "    }\n",
              "\n",
              "    .dataframe tbody tr th {\n",
              "        vertical-align: top;\n",
              "    }\n",
              "\n",
              "    .dataframe thead th {\n",
              "        text-align: right;\n",
              "    }\n",
              "</style>\n",
              "<table border=\"1\" class=\"dataframe\">\n",
              "  <thead>\n",
              "    <tr style=\"text-align: right;\">\n",
              "      <th></th>\n",
              "      <th>year</th>\n",
              "      <th>country</th>\n",
              "      <th>region</th>\n",
              "      <th>happiness_score</th>\n",
              "      <th>gdp_per_capita</th>\n",
              "      <th>social_support</th>\n",
              "      <th>healthy_life_expectancy</th>\n",
              "      <th>freedom_to_make_life_choices</th>\n",
              "      <th>generosity</th>\n",
              "      <th>perceptions_of_corruption</th>\n",
              "    </tr>\n",
              "  </thead>\n",
              "  <tbody>\n",
              "    <tr>\n",
              "      <th>0</th>\n",
              "      <td>2015</td>\n",
              "      <td>switzerland</td>\n",
              "      <td>western europe</td>\n",
              "      <td>7.587</td>\n",
              "      <td>1.39651</td>\n",
              "      <td>1.34951</td>\n",
              "      <td>0.94143</td>\n",
              "      <td>0.66557</td>\n",
              "      <td>0.29678</td>\n",
              "      <td>0.41978</td>\n",
              "    </tr>\n",
              "    <tr>\n",
              "      <th>1</th>\n",
              "      <td>2015</td>\n",
              "      <td>iceland</td>\n",
              "      <td>western europe</td>\n",
              "      <td>7.561</td>\n",
              "      <td>1.30232</td>\n",
              "      <td>1.40223</td>\n",
              "      <td>0.94784</td>\n",
              "      <td>0.62877</td>\n",
              "      <td>0.43630</td>\n",
              "      <td>0.14145</td>\n",
              "    </tr>\n",
              "    <tr>\n",
              "      <th>2</th>\n",
              "      <td>2015</td>\n",
              "      <td>denmark</td>\n",
              "      <td>western europe</td>\n",
              "      <td>7.527</td>\n",
              "      <td>1.32548</td>\n",
              "      <td>1.36058</td>\n",
              "      <td>0.87464</td>\n",
              "      <td>0.64938</td>\n",
              "      <td>0.34139</td>\n",
              "      <td>0.48357</td>\n",
              "    </tr>\n",
              "    <tr>\n",
              "      <th>3</th>\n",
              "      <td>2015</td>\n",
              "      <td>norway</td>\n",
              "      <td>western europe</td>\n",
              "      <td>7.522</td>\n",
              "      <td>1.45900</td>\n",
              "      <td>1.33095</td>\n",
              "      <td>0.88521</td>\n",
              "      <td>0.66973</td>\n",
              "      <td>0.34699</td>\n",
              "      <td>0.36503</td>\n",
              "    </tr>\n",
              "    <tr>\n",
              "      <th>4</th>\n",
              "      <td>2015</td>\n",
              "      <td>canada</td>\n",
              "      <td>north america and anz</td>\n",
              "      <td>7.427</td>\n",
              "      <td>1.32629</td>\n",
              "      <td>1.32261</td>\n",
              "      <td>0.90563</td>\n",
              "      <td>0.63297</td>\n",
              "      <td>0.45811</td>\n",
              "      <td>0.32957</td>\n",
              "    </tr>\n",
              "  </tbody>\n",
              "</table>\n",
              "</div>\n",
              "    <div class=\"colab-df-buttons\">\n",
              "\n",
              "  <div class=\"colab-df-container\">\n",
              "    <button class=\"colab-df-convert\" onclick=\"convertToInteractive('df-4a3d779c-c519-4cd2-9b6a-4fa03afa5775')\"\n",
              "            title=\"Convert this dataframe to an interactive table.\"\n",
              "            style=\"display:none;\">\n",
              "\n",
              "  <svg xmlns=\"http://www.w3.org/2000/svg\" height=\"24px\" viewBox=\"0 -960 960 960\">\n",
              "    <path d=\"M120-120v-720h720v720H120Zm60-500h600v-160H180v160Zm220 220h160v-160H400v160Zm0 220h160v-160H400v160ZM180-400h160v-160H180v160Zm440 0h160v-160H620v160ZM180-180h160v-160H180v160Zm440 0h160v-160H620v160Z\"/>\n",
              "  </svg>\n",
              "    </button>\n",
              "\n",
              "  <style>\n",
              "    .colab-df-container {\n",
              "      display:flex;\n",
              "      gap: 12px;\n",
              "    }\n",
              "\n",
              "    .colab-df-convert {\n",
              "      background-color: #E8F0FE;\n",
              "      border: none;\n",
              "      border-radius: 50%;\n",
              "      cursor: pointer;\n",
              "      display: none;\n",
              "      fill: #1967D2;\n",
              "      height: 32px;\n",
              "      padding: 0 0 0 0;\n",
              "      width: 32px;\n",
              "    }\n",
              "\n",
              "    .colab-df-convert:hover {\n",
              "      background-color: #E2EBFA;\n",
              "      box-shadow: 0px 1px 2px rgba(60, 64, 67, 0.3), 0px 1px 3px 1px rgba(60, 64, 67, 0.15);\n",
              "      fill: #174EA6;\n",
              "    }\n",
              "\n",
              "    .colab-df-buttons div {\n",
              "      margin-bottom: 4px;\n",
              "    }\n",
              "\n",
              "    [theme=dark] .colab-df-convert {\n",
              "      background-color: #3B4455;\n",
              "      fill: #D2E3FC;\n",
              "    }\n",
              "\n",
              "    [theme=dark] .colab-df-convert:hover {\n",
              "      background-color: #434B5C;\n",
              "      box-shadow: 0px 1px 3px 1px rgba(0, 0, 0, 0.15);\n",
              "      filter: drop-shadow(0px 1px 2px rgba(0, 0, 0, 0.3));\n",
              "      fill: #FFFFFF;\n",
              "    }\n",
              "  </style>\n",
              "\n",
              "    <script>\n",
              "      const buttonEl =\n",
              "        document.querySelector('#df-4a3d779c-c519-4cd2-9b6a-4fa03afa5775 button.colab-df-convert');\n",
              "      buttonEl.style.display =\n",
              "        google.colab.kernel.accessAllowed ? 'block' : 'none';\n",
              "\n",
              "      async function convertToInteractive(key) {\n",
              "        const element = document.querySelector('#df-4a3d779c-c519-4cd2-9b6a-4fa03afa5775');\n",
              "        const dataTable =\n",
              "          await google.colab.kernel.invokeFunction('convertToInteractive',\n",
              "                                                    [key], {});\n",
              "        if (!dataTable) return;\n",
              "\n",
              "        const docLinkHtml = 'Like what you see? Visit the ' +\n",
              "          '<a target=\"_blank\" href=https://colab.research.google.com/notebooks/data_table.ipynb>data table notebook</a>'\n",
              "          + ' to learn more about interactive tables.';\n",
              "        element.innerHTML = '';\n",
              "        dataTable['output_type'] = 'display_data';\n",
              "        await google.colab.output.renderOutput(dataTable, element);\n",
              "        const docLink = document.createElement('div');\n",
              "        docLink.innerHTML = docLinkHtml;\n",
              "        element.appendChild(docLink);\n",
              "      }\n",
              "    </script>\n",
              "  </div>\n",
              "\n",
              "\n",
              "<div id=\"df-90d84c59-1eb1-4159-9ef5-dfa80f1241a2\">\n",
              "  <button class=\"colab-df-quickchart\" onclick=\"quickchart('df-90d84c59-1eb1-4159-9ef5-dfa80f1241a2')\"\n",
              "            title=\"Suggest charts\"\n",
              "            style=\"display:none;\">\n",
              "\n",
              "<svg xmlns=\"http://www.w3.org/2000/svg\" height=\"24px\"viewBox=\"0 0 24 24\"\n",
              "     width=\"24px\">\n",
              "    <g>\n",
              "        <path d=\"M19 3H5c-1.1 0-2 .9-2 2v14c0 1.1.9 2 2 2h14c1.1 0 2-.9 2-2V5c0-1.1-.9-2-2-2zM9 17H7v-7h2v7zm4 0h-2V7h2v10zm4 0h-2v-4h2v4z\"/>\n",
              "    </g>\n",
              "</svg>\n",
              "  </button>\n",
              "\n",
              "<style>\n",
              "  .colab-df-quickchart {\n",
              "      --bg-color: #E8F0FE;\n",
              "      --fill-color: #1967D2;\n",
              "      --hover-bg-color: #E2EBFA;\n",
              "      --hover-fill-color: #174EA6;\n",
              "      --disabled-fill-color: #AAA;\n",
              "      --disabled-bg-color: #DDD;\n",
              "  }\n",
              "\n",
              "  [theme=dark] .colab-df-quickchart {\n",
              "      --bg-color: #3B4455;\n",
              "      --fill-color: #D2E3FC;\n",
              "      --hover-bg-color: #434B5C;\n",
              "      --hover-fill-color: #FFFFFF;\n",
              "      --disabled-bg-color: #3B4455;\n",
              "      --disabled-fill-color: #666;\n",
              "  }\n",
              "\n",
              "  .colab-df-quickchart {\n",
              "    background-color: var(--bg-color);\n",
              "    border: none;\n",
              "    border-radius: 50%;\n",
              "    cursor: pointer;\n",
              "    display: none;\n",
              "    fill: var(--fill-color);\n",
              "    height: 32px;\n",
              "    padding: 0;\n",
              "    width: 32px;\n",
              "  }\n",
              "\n",
              "  .colab-df-quickchart:hover {\n",
              "    background-color: var(--hover-bg-color);\n",
              "    box-shadow: 0 1px 2px rgba(60, 64, 67, 0.3), 0 1px 3px 1px rgba(60, 64, 67, 0.15);\n",
              "    fill: var(--button-hover-fill-color);\n",
              "  }\n",
              "\n",
              "  .colab-df-quickchart-complete:disabled,\n",
              "  .colab-df-quickchart-complete:disabled:hover {\n",
              "    background-color: var(--disabled-bg-color);\n",
              "    fill: var(--disabled-fill-color);\n",
              "    box-shadow: none;\n",
              "  }\n",
              "\n",
              "  .colab-df-spinner {\n",
              "    border: 2px solid var(--fill-color);\n",
              "    border-color: transparent;\n",
              "    border-bottom-color: var(--fill-color);\n",
              "    animation:\n",
              "      spin 1s steps(1) infinite;\n",
              "  }\n",
              "\n",
              "  @keyframes spin {\n",
              "    0% {\n",
              "      border-color: transparent;\n",
              "      border-bottom-color: var(--fill-color);\n",
              "      border-left-color: var(--fill-color);\n",
              "    }\n",
              "    20% {\n",
              "      border-color: transparent;\n",
              "      border-left-color: var(--fill-color);\n",
              "      border-top-color: var(--fill-color);\n",
              "    }\n",
              "    30% {\n",
              "      border-color: transparent;\n",
              "      border-left-color: var(--fill-color);\n",
              "      border-top-color: var(--fill-color);\n",
              "      border-right-color: var(--fill-color);\n",
              "    }\n",
              "    40% {\n",
              "      border-color: transparent;\n",
              "      border-right-color: var(--fill-color);\n",
              "      border-top-color: var(--fill-color);\n",
              "    }\n",
              "    60% {\n",
              "      border-color: transparent;\n",
              "      border-right-color: var(--fill-color);\n",
              "    }\n",
              "    80% {\n",
              "      border-color: transparent;\n",
              "      border-right-color: var(--fill-color);\n",
              "      border-bottom-color: var(--fill-color);\n",
              "    }\n",
              "    90% {\n",
              "      border-color: transparent;\n",
              "      border-bottom-color: var(--fill-color);\n",
              "    }\n",
              "  }\n",
              "</style>\n",
              "\n",
              "  <script>\n",
              "    async function quickchart(key) {\n",
              "      const quickchartButtonEl =\n",
              "        document.querySelector('#' + key + ' button');\n",
              "      quickchartButtonEl.disabled = true;  // To prevent multiple clicks.\n",
              "      quickchartButtonEl.classList.add('colab-df-spinner');\n",
              "      try {\n",
              "        const charts = await google.colab.kernel.invokeFunction(\n",
              "            'suggestCharts', [key], {});\n",
              "      } catch (error) {\n",
              "        console.error('Error during call to suggestCharts:', error);\n",
              "      }\n",
              "      quickchartButtonEl.classList.remove('colab-df-spinner');\n",
              "      quickchartButtonEl.classList.add('colab-df-quickchart-complete');\n",
              "    }\n",
              "    (() => {\n",
              "      let quickchartButtonEl =\n",
              "        document.querySelector('#df-90d84c59-1eb1-4159-9ef5-dfa80f1241a2 button');\n",
              "      quickchartButtonEl.style.display =\n",
              "        google.colab.kernel.accessAllowed ? 'block' : 'none';\n",
              "    })();\n",
              "  </script>\n",
              "</div>\n",
              "\n",
              "    </div>\n",
              "  </div>\n"
            ],
            "application/vnd.google.colaboratory.intrinsic+json": {
              "type": "dataframe",
              "variable_name": "df",
              "summary": "{\n  \"name\": \"df\",\n  \"rows\": 1163,\n  \"fields\": [\n    {\n      \"column\": \"year\",\n      \"properties\": {\n        \"dtype\": \"number\",\n        \"std\": 2,\n        \"min\": 2015,\n        \"max\": 2023,\n        \"num_unique_values\": 9,\n        \"samples\": [\n          2022,\n          2016,\n          2020\n        ],\n        \"semantic_type\": \"\",\n        \"description\": \"\"\n      }\n    },\n    {\n      \"column\": \"country\",\n      \"properties\": {\n        \"dtype\": \"category\",\n        \"num_unique_values\": 129,\n        \"samples\": [\n          \"croatia\",\n          \"japan\",\n          \"united arab emirates\"\n        ],\n        \"semantic_type\": \"\",\n        \"description\": \"\"\n      }\n    },\n    {\n      \"column\": \"region\",\n      \"properties\": {\n        \"dtype\": \"category\",\n        \"num_unique_values\": 10,\n        \"samples\": [\n          \"sub-saharan africa\",\n          \"north america and anz\",\n          \"central and eastern europe\"\n        ],\n        \"semantic_type\": \"\",\n        \"description\": \"\"\n      }\n    },\n    {\n      \"column\": \"happiness_score\",\n      \"properties\": {\n        \"dtype\": \"number\",\n        \"std\": 1.0915577615129626,\n        \"min\": 1.859,\n        \"max\": 7.842,\n        \"num_unique_values\": 1034,\n        \"samples\": [\n          5.90199995,\n          4.88,\n          6.257599831\n        ],\n        \"semantic_type\": \"\",\n        \"description\": \"\"\n      }\n    },\n    {\n      \"column\": \"gdp_per_capita\",\n      \"properties\": {\n        \"dtype\": \"number\",\n        \"std\": 0.43577740063064124,\n        \"min\": 0.0,\n        \"max\": 2.209,\n        \"num_unique_values\": 1057,\n        \"samples\": [\n          1.564979553,\n          0.852,\n          0.255\n        ],\n        \"semantic_type\": \"\",\n        \"description\": \"\"\n      }\n    },\n    {\n      \"column\": \"social_support\",\n      \"properties\": {\n        \"dtype\": \"number\",\n        \"std\": 0.32039944835142703,\n        \"min\": 0.0,\n        \"max\": 1.644,\n        \"num_unique_values\": 1001,\n        \"samples\": [\n          1.31,\n          1.445,\n          1.106\n        ],\n        \"semantic_type\": \"\",\n        \"description\": \"\"\n      }\n    },\n    {\n      \"column\": \"healthy_life_expectancy\",\n      \"properties\": {\n        \"dtype\": \"number\",\n        \"std\": 0.2368814434297877,\n        \"min\": 0.0,\n        \"max\": 1.141,\n        \"num_unique_values\": 940,\n        \"samples\": [\n          0.972114801,\n          0.77361,\n          0.83096\n        ],\n        \"semantic_type\": \"\",\n        \"description\": \"\"\n      }\n    },\n    {\n      \"column\": \"freedom_to_make_life_choices\",\n      \"properties\": {\n        \"dtype\": \"number\",\n        \"std\": 0.14959004653530145,\n        \"min\": 0.0,\n        \"max\": 0.772,\n        \"num_unique_values\": 891,\n        \"samples\": [\n          0.373684734,\n          0.454,\n          0.74\n        ],\n        \"semantic_type\": \"\",\n        \"description\": \"\"\n      }\n    },\n    {\n      \"column\": \"generosity\",\n      \"properties\": {\n        \"dtype\": \"number\",\n        \"std\": 0.11292098248812668,\n        \"min\": 0.0,\n        \"max\": 0.838075161,\n        \"num_unique_values\": 788,\n        \"samples\": [\n          0.373433441,\n          0.16893,\n          0.25075\n        ],\n        \"semantic_type\": \"\",\n        \"description\": \"\"\n      }\n    },\n    {\n      \"column\": \"perceptions_of_corruption\",\n      \"properties\": {\n        \"dtype\": \"number\",\n        \"std\": 0.11314945266373186,\n        \"min\": 0.0,\n        \"max\": 0.587,\n        \"num_unique_values\": 784,\n        \"samples\": [\n          0.059447147,\n          0.086807102,\n          0.07047\n        ],\n        \"semantic_type\": \"\",\n        \"description\": \"\"\n      }\n    }\n  ]\n}"
            }
          },
          "metadata": {},
          "execution_count": 28
        }
      ]
    },
    {
      "cell_type": "markdown",
      "source": [
        "## Data Exploration and Cleaning\n"
      ],
      "metadata": {
        "id": "bzrtHxtk2UaV"
      }
    },
    {
      "cell_type": "markdown",
      "source": [
        "### Supprimer les doublons"
      ],
      "metadata": {
        "id": "lBXxqr0N3YOT"
      }
    },
    {
      "cell_type": "markdown",
      "source": [],
      "metadata": {
        "id": "CH_AVnZz-05A"
      }
    },
    {
      "cell_type": "code",
      "source": [
        "# Check if there are doublons in the df\n",
        "num_duplicates = df.duplicated().sum()\n",
        "print(f\"Nombre de lignes dupliquées trouvées : {num_duplicates}\")"
      ],
      "metadata": {
        "colab": {
          "base_uri": "https://localhost:8080/"
        },
        "id": "8rHGlvzv3e1w",
        "outputId": "6668e01a-783c-4149-80b5-dd6ea9a89067"
      },
      "execution_count": null,
      "outputs": [
        {
          "output_type": "stream",
          "name": "stdout",
          "text": [
            "Nombre de lignes dupliquées trouvées : 0\n"
          ]
        }
      ]
    },
    {
      "cell_type": "markdown",
      "source": [
        "### Traiter les valeurs manquantes"
      ],
      "metadata": {
        "id": "s7FknP5h-YF1"
      }
    },
    {
      "cell_type": "code",
      "source": [
        "# Check if there are missing values in the df\n",
        "missing_values = df.isnull().sum()\n",
        "print(missing_values)"
      ],
      "metadata": {
        "colab": {
          "base_uri": "https://localhost:8080/"
        },
        "id": "XEhH1kRL-xfD",
        "outputId": "1ee6b01b-f272-42bb-d30d-76cec4ca3923"
      },
      "execution_count": null,
      "outputs": [
        {
          "output_type": "stream",
          "name": "stdout",
          "text": [
            "year                            0\n",
            "country                         0\n",
            "region                          0\n",
            "happiness_score                 0\n",
            "gdp_per_capita                  0\n",
            "social_support                  0\n",
            "healthy_life_expectancy         0\n",
            "freedom_to_make_life_choices    0\n",
            "generosity                      0\n",
            "perceptions_of_corruption       1\n",
            "dtype: int64\n"
          ]
        }
      ]
    },
    {
      "cell_type": "code",
      "source": [
        "# Find the location of the  missing value in perceptions_of_corruption column. Return the name of the line\n",
        "missing_index = df[df['perceptions_of_corruption'].isnull()].index.tolist()\n",
        "missing_row_name = df.iloc[missing_index]['country'].values[0]\n",
        "print(f\"Le nom de la ligne avec la valeur manquante dans la colonne 'perceptions_of_corruption' est : {missing_row_name}\")\n"
      ],
      "metadata": {
        "colab": {
          "base_uri": "https://localhost:8080/"
        },
        "id": "3kCAYaaoBGK0",
        "outputId": "7ea2826f-cc1e-41a2-f2a9-0cea6d9f0e91"
      },
      "execution_count": null,
      "outputs": [
        {
          "output_type": "stream",
          "name": "stdout",
          "text": [
            "Le nom de la ligne avec la valeur manquante dans la colonne 'perceptions_of_corruption' est : united arab emirates\n"
          ]
        }
      ]
    },
    {
      "cell_type": "code",
      "source": [
        "# Let's check if we can fill this missing value with the mean of values from other years.\n",
        "# Return all the values from 'perceptions_of_corruption' columns for country 'united Arab emirates'\n",
        "print(df[df['country'] == 'united arab emirates']['perceptions_of_corruption'])"
      ],
      "metadata": {
        "colab": {
          "base_uri": "https://localhost:8080/"
        },
        "id": "VsKJBlZSBwtO",
        "outputId": "62bbd32a-11b9-4aab-db21-e6f98184413f"
      },
      "execution_count": null,
      "outputs": [
        {
          "output_type": "stream",
          "name": "stdout",
          "text": [
            "19      0.385830\n",
            "155     0.355610\n",
            "278     0.324490\n",
            "406          NaN\n",
            "537     0.182000\n",
            "667     0.220214\n",
            "800     0.223000\n",
            "928     0.250000\n",
            "1059    0.247000\n",
            "Name: perceptions_of_corruption, dtype: float64\n"
          ]
        }
      ]
    },
    {
      "cell_type": "code",
      "source": [
        "# Calculate the mean for all the non-missing values from 'perceptions_of_corruption' column for country 'united arab emirates'. Then, replace the missing value with the mean\n",
        "\n",
        "# Calculate the mean for all the non-missing values from 'perceptions_of_corruption column for country 'united arab emirates'.\n",
        "mean_corruption = df[df['country'] == 'united arab emirates']['perceptions_of_corruption'].dropna().mean()\n",
        "\n",
        "# Replace the missing value with the mean\n",
        "df.loc[df['country'] == 'united arab emirates', 'perceptions_of_corruption'] = df.loc[df['country'] == 'united arab emirates', 'perceptions_of_corruption'].fillna(mean_corruption)\n"
      ],
      "metadata": {
        "id": "OagXS594JAFo"
      },
      "execution_count": null,
      "outputs": []
    },
    {
      "cell_type": "code",
      "source": [
        "print(df[df['country'] == 'united arab emirates']['perceptions_of_corruption'])"
      ],
      "metadata": {
        "colab": {
          "base_uri": "https://localhost:8080/"
        },
        "id": "56L-dgLOJd8C",
        "outputId": "aef22509-1e81-4b2f-de4d-7eb5b44b3394"
      },
      "execution_count": null,
      "outputs": [
        {
          "output_type": "stream",
          "name": "stdout",
          "text": [
            "19      0.385830\n",
            "155     0.355610\n",
            "278     0.324490\n",
            "406     0.273518\n",
            "537     0.182000\n",
            "667     0.220214\n",
            "800     0.223000\n",
            "928     0.250000\n",
            "1059    0.247000\n",
            "Name: perceptions_of_corruption, dtype: float64\n"
          ]
        }
      ]
    },
    {
      "cell_type": "code",
      "source": [
        "# Count values equal to 0 in the entire DataFrame\n",
        "zero_values = (df == 0).sum().sum()\n",
        "\n",
        "print(f\"Number of values equal to 0 in the dataset: {zero_values}\")\n"
      ],
      "metadata": {
        "colab": {
          "base_uri": "https://localhost:8080/"
        },
        "id": "drOANqXDnra3",
        "outputId": "83827cc2-1bac-4932-c57e-e64aff4a99ac"
      },
      "execution_count": null,
      "outputs": [
        {
          "output_type": "stream",
          "name": "stdout",
          "text": [
            "Number of values equal to 0 in the dataset: 35\n"
          ]
        }
      ]
    },
    {
      "cell_type": "code",
      "source": [
        "# Let's try to understand why there are 35 values equal to 0 in our dataset.\n",
        "# Is it because the real result of the study was 0, or did someone replace NaN by 0 when preparing the dataset?\n",
        "# Find the location of all the values equal to 0. List the names of the columns with missing values and the value corresponding to 'country' and 'year'\n",
        "\n",
        "# Find the location of all the values equal to 0\n",
        "zero_locations = df[df == 0].stack().index.tolist()\n",
        "\n",
        "# Extract relevant information for each zero value\n",
        "zero_info = []\n",
        "for index, column in zero_locations:\n",
        "    country = df.loc[index, 'country']\n",
        "    year = df.loc[index, 'year']\n",
        "    zero_info.append({'country': country, 'year': year, 'column': column})\n",
        "\n",
        "# Print the information for each zero value\n",
        "for info in zero_info:\n",
        "    print(f\"Country: {info['country']}, Year: {info['year']}, Column: {info['column']}\")\n"
      ],
      "metadata": {
        "colab": {
          "base_uri": "https://localhost:8080/"
        },
        "id": "LVrexey4rAz8",
        "outputId": "5a6aedea-a244-4417-92b9-835989a819bd"
      },
      "execution_count": null,
      "outputs": [
        {
          "output_type": "stream",
          "name": "stdout",
          "text": [
            "Country: indonesia, Year: 2015, Column: perceptions_of_corruption\n",
            "Country: greece, Year: 2015, Column: generosity\n",
            "Country: iraq, Year: 2015, Column: freedom_to_make_life_choices\n",
            "Country: sierra leone, Year: 2015, Column: healthy_life_expectancy\n",
            "Country: bosnia and herzegovina, Year: 2016, Column: perceptions_of_corruption\n",
            "Country: greece, Year: 2016, Column: generosity\n",
            "Country: sierra leone, Year: 2016, Column: healthy_life_expectancy\n",
            "Country: togo, Year: 2016, Column: social_support\n",
            "Country: greece, Year: 2017, Column: generosity\n",
            "Country: bosnia and herzegovina, Year: 2017, Column: perceptions_of_corruption\n",
            "Country: moldova, Year: 2018, Column: perceptions_of_corruption\n",
            "Country: greece, Year: 2018, Column: generosity\n",
            "Country: bosnia and herzegovina, Year: 2018, Column: perceptions_of_corruption\n",
            "Country: sierra leone, Year: 2018, Column: healthy_life_expectancy\n",
            "Country: moldova, Year: 2019, Column: perceptions_of_corruption\n",
            "Country: greece, Year: 2019, Column: generosity\n",
            "Country: afghanistan, Year: 2019, Column: freedom_to_make_life_choices\n",
            "Country: greece, Year: 2020, Column: generosity\n",
            "Country: bulgaria, Year: 2020, Column: perceptions_of_corruption\n",
            "Country: afghanistan, Year: 2020, Column: freedom_to_make_life_choices\n",
            "Country: croatia, Year: 2021, Column: perceptions_of_corruption\n",
            "Country: greece, Year: 2021, Column: generosity\n",
            "Country: chad, Year: 2021, Column: healthy_life_expectancy\n",
            "Country: afghanistan, Year: 2021, Column: social_support\n",
            "Country: afghanistan, Year: 2021, Column: freedom_to_make_life_choices\n",
            "Country: croatia, Year: 2022, Column: perceptions_of_corruption\n",
            "Country: georgia, Year: 2022, Column: generosity\n",
            "Country: venezuela, Year: 2022, Column: gdp_per_capita\n",
            "Country: afghanistan, Year: 2022, Column: social_support\n",
            "Country: afghanistan, Year: 2022, Column: freedom_to_make_life_choices\n",
            "Country: romania, Year: 2023, Column: perceptions_of_corruption\n",
            "Country: venezuela, Year: 2023, Column: gdp_per_capita\n",
            "Country: georgia, Year: 2023, Column: generosity\n",
            "Country: afghanistan, Year: 2023, Column: social_support\n",
            "Country: afghanistan, Year: 2023, Column: freedom_to_make_life_choices\n"
          ]
        }
      ]
    },
    {
      "cell_type": "code",
      "source": [
        "# Quelles sont les valeurs 'generosity' pour 'greece' pour les 'year' '2021', '2022' et '2023' ?\n",
        "print(df[(df['country'] == 'greece') & (df['year'].isin([2021, 2022, 2023]))]['generosity'])\n",
        "# Quelle est la moyenne pour tous les pays ?\n",
        "print(df['generosity'].mean())"
      ],
      "metadata": {
        "colab": {
          "base_uri": "https://localhost:8080/"
        },
        "id": "5CEMFcF575w2",
        "outputId": "de4f9965-f8a7-4eb9-a034-a1c67b2035ed"
      },
      "execution_count": null,
      "outputs": [
        {
          "output_type": "stream",
          "name": "stdout",
          "text": [
            "842     0.000\n",
            "961     0.015\n",
            "1091    0.008\n",
            "Name: generosity, dtype: float64\n",
            "0.19498117319604474\n"
          ]
        }
      ]
    },
    {
      "cell_type": "markdown",
      "source": [
        "**Conclusion** : Étant donné que les valeurs pour 2022 et 2023 sont très faibles, et que la moyenne pour tous les pays est environ 10 fois plus élevée, nous pouvons considérer qu'il s'agit du véritable résultat de l'étude. Il est probable que la fragilité économique qu'a connue la Grèce ait eu une corrélation négative avec la générosité. Cette tendance pourrait indiquer que les difficultés économiques ont réduit la capacité des citoyens à donner ou à participer à des actes de générosité, affectant ainsi les résultats observés pour ces années."
      ],
      "metadata": {
        "id": "X89M5axb7K-B"
      }
    },
    {
      "cell_type": "code",
      "source": [
        "# Quelles sont les valeurs 'healthy_life_expectancy' pour 'sierra leone' ? (pas la moyenne). # Quelle est la moyenne pour tous les pays ?\n",
        "\n",
        "# Quelles sont les valeurs 'healthy_life_expectancy' pour 'sierra leone' ? (pas la moyenne).\n",
        "print(df[df['country'] == 'sierra leone']['healthy_life_expectancy'])\n",
        "# Quelle est la moyenne pour tous les pays ?\n",
        "print(df['healthy_life_expectancy'].mean())\n"
      ],
      "metadata": {
        "colab": {
          "base_uri": "https://localhost:8080/"
        },
        "id": "4OmqiUUXACyL",
        "outputId": "7797880e-43b7-44fe-9dbb-bbb78e9cfda2"
      },
      "execution_count": null,
      "outputs": [
        {
          "output_type": "stream",
          "name": "stdout",
          "text": [
            "102     0.000000\n",
            "223     0.000000\n",
            "351     0.005565\n",
            "487     0.000000\n",
            "629     0.242000\n",
            "768     0.203954\n",
            "898     0.100000\n",
            "1029    0.273000\n",
            "1160    0.092000\n",
            "Name: healthy_life_expectancy, dtype: float64\n",
            "0.6126270998873603\n"
          ]
        }
      ]
    },
    {
      "cell_type": "markdown",
      "source": [
        "\n",
        "**Conclusion** : Il est difficile de comprendre les fortes variations d'une année à l'autre. Néanmoins, l'existence de valeurs aussi faibles que 0,005565 et 0,092000 semble indiquer que la valeur 0 est probable dans le contexte de la Sierra Leone.\n",
        "\n",
        "Il est également important de rappeler que la Sierra Leone a été déclarée exempte de la maladie à virus Ebola le 17 mars 2016, après une épidémie dévastatrice qui a ravagé l'Afrique de l'Ouest entre 2013 et 2015. Néanmoins, d'autres maladies, comme le choléra, le typhus, la malaria, ainsi que la fièvre de Lassa, restent fréquentes, avec des cas récents signalés dans le nord du pays.\n",
        "\n",
        "**Conclusion concernant les valeurs égales à 0** : Il ne s'agit pas de valeurs manquantes remplacées par 0, mais bien des véritables résultats de l'étude.\n"
      ],
      "metadata": {
        "id": "a_dpWozq6u8h"
      }
    },
    {
      "cell_type": "markdown",
      "source": [
        "## Modeling"
      ],
      "metadata": {
        "id": "Gi0iOi5NH-Oe"
      }
    },
    {
      "cell_type": "markdown",
      "source": [
        "### Preprocessing"
      ],
      "metadata": {
        "id": "du_mcms_IHBB"
      }
    },
    {
      "cell_type": "code",
      "source": [
        "# Select relevant columns for X and y\n",
        "X = df[['gdp_per_capita', 'social_support', 'healthy_life_expectancy',\n",
        "         'freedom_to_make_life_choices', 'generosity', 'perceptions_of_corruption']]\n",
        "y = df['happiness_score']"
      ],
      "metadata": {
        "id": "aTK9SeofIXGq"
      },
      "execution_count": null,
      "outputs": []
    },
    {
      "cell_type": "code",
      "source": [
        "# Split into train and test split\n",
        "from sklearn.model_selection import train_test_split\n",
        "X_train, X_test, y_train, y_test = train_test_split(X, y, test_size = 0.2, random_state=42)"
      ],
      "metadata": {
        "id": "Osc48JVYJkVG"
      },
      "execution_count": null,
      "outputs": []
    },
    {
      "cell_type": "code",
      "source": [
        "# Scale\n",
        "from sklearn.preprocessing import StandardScaler\n",
        "scaler = StandardScaler()\n",
        "X_train_scaled = scaler.fit_transform(X_train)\n",
        "X_test_scaled = scaler.transform(X_test)"
      ],
      "metadata": {
        "id": "eeH6CnvgKE8Y"
      },
      "execution_count": null,
      "outputs": []
    },
    {
      "cell_type": "markdown",
      "source": [
        "### Linear Regression"
      ],
      "metadata": {
        "id": "1-Gja28zKap-"
      }
    },
    {
      "cell_type": "code",
      "source": [
        "# Train a Linear Regression model that predicts happiness_score (our y) based on our X variables.\n",
        "\n",
        "from sklearn.linear_model import LinearRegression\n",
        "model_1 = LinearRegression().fit(X_train_scaled, y_train)"
      ],
      "metadata": {
        "id": "1BplhraZKmGx"
      },
      "execution_count": null,
      "outputs": []
    },
    {
      "cell_type": "markdown",
      "source": [
        "### Evaluation"
      ],
      "metadata": {
        "id": "rfKpWUYJOOpA"
      }
    },
    {
      "cell_type": "markdown",
      "source": [
        "Goals:\n",
        "*   What is the R2 score on the train data?\n",
        "*   What is the MSE (mean squared error)?\n",
        "*   What about the MAE (mean absolute error)?"
      ],
      "metadata": {
        "id": "qKhSYKiyOp2Z"
      }
    },
    {
      "cell_type": "code",
      "source": [
        "# Score the model\n",
        "\n",
        "from sklearn.metrics import r2_score, mean_squared_error, mean_absolute_error\n",
        "\n",
        "# Make predictions on the test set\n",
        "y_pred = model_1.predict(X_test_scaled)\n",
        "\n",
        "# Evaluate the model\n",
        "r2 = r2_score(y_test, y_pred)\n",
        "mse = mean_squared_error(y_test, y_pred)\n",
        "mae = mean_absolute_error(y_test, y_pred)\n",
        "\n",
        "print(\"R-squared:\", r2)\n",
        "print(\"Mean Squared Error:\", mse)\n",
        "print(\"Mean Absolute Error:\", mae)"
      ],
      "metadata": {
        "colab": {
          "base_uri": "https://localhost:8080/"
        },
        "id": "VpWwbjUBSUsb",
        "outputId": "7e2319f9-55e5-4fab-a354-c138376631b5"
      },
      "execution_count": null,
      "outputs": [
        {
          "output_type": "stream",
          "name": "stdout",
          "text": [
            "R-squared: 0.7021796560043735\n",
            "Mean Squared Error: 0.32135255383898814\n",
            "Mean Absolute Error: 0.4210575006854483\n"
          ]
        }
      ]
    },
    {
      "cell_type": "markdown",
      "source": [
        "Maintenant, essayons d'améliorer notre modèle."
      ],
      "metadata": {
        "id": "ZCTMIlIKvMbg"
      }
    },
    {
      "cell_type": "markdown",
      "source": [
        "## Data cleaning\n",
        "\n"
      ],
      "metadata": {
        "id": "tzOa7COZyZRH"
      }
    },
    {
      "cell_type": "markdown",
      "source": [
        "### Valeurs manquantes"
      ],
      "metadata": {
        "id": "PZi0wU48ynMs"
      }
    },
    {
      "cell_type": "code",
      "source": [
        "# prompt: afficher toutes les valeurs gdp_per_capita pour country \"Venezuela\"\n",
        "\n",
        "print(df[df['country'] == 'venezuela']['gdp_per_capita'])\n"
      ],
      "metadata": {
        "colab": {
          "base_uri": "https://localhost:8080/"
        },
        "id": "A7ZSYk7qJAFD",
        "outputId": "8f23057e-7e6a-4d03-fc40-04ad78002932"
      },
      "execution_count": null,
      "outputs": [
        {
          "output_type": "stream",
          "name": "stdout",
          "text": [
            "21      1.044240\n",
            "167     1.133670\n",
            "331     1.128431\n",
            "478     0.996000\n",
            "614     0.960000\n",
            "736     0.770239\n",
            "872     0.852000\n",
            "1002    0.000000\n",
            "1120    0.000000\n",
            "Name: gdp_per_capita, dtype: float64\n"
          ]
        }
      ]
    }
  ]
}