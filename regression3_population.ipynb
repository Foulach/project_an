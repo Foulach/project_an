{
  "nbformat": 4,
  "nbformat_minor": 0,
  "metadata": {
    "colab": {
      "provenance": [],
      "include_colab_link": true
    },
    "kernelspec": {
      "name": "python3",
      "display_name": "Python 3"
    },
    "language_info": {
      "name": "python"
    }
  },
  "cells": [
    {
      "cell_type": "markdown",
      "metadata": {
        "id": "view-in-github",
        "colab_type": "text"
      },
      "source": [
        "<a href=\"https://colab.research.google.com/github/Foulach/project_an/blob/main/regression3_population.ipynb\" target=\"_parent\"><img src=\"https://colab.research.google.com/assets/colab-badge.svg\" alt=\"Open In Colab\"/></a>"
      ]
    },
    {
      "cell_type": "markdown",
      "source": [
        "Les différences avec le dernier modèle :\n",
        "*  Nous ajoutons une variable supplémentaire : **population_density**.\n",
        "*  Nous améliorons deux paramètres du modèle RANSAC : nous supprimons le paramètre **residual_threshold** (seuil pour identifier les inliers) et modifions **min_samples** (de 50 à 0,9) afin d'augmenter la quantité de données utilisées pour l'échantillonnage.\n",
        "\n",
        "\n",
        "\n",
        "\n"
      ],
      "metadata": {
        "id": "3JVUwRNL7Bs_"
      }
    },
    {
      "cell_type": "markdown",
      "source": [
        "## Data import and cleaning"
      ],
      "metadata": {
        "id": "KCsQs3qrAW-g"
      }
    },
    {
      "cell_type": "code",
      "source": [
        "# import the dataset from google drive\n",
        "\n",
        "import pandas as pd\n",
        "from google.colab import drive\n",
        "drive.mount('/content/drive')\n",
        "\n",
        "df = pd.read_csv('/content/drive/My Drive/happiness_project/regressions/merged_df.csv')\n",
        "df.head()"
      ],
      "metadata": {
        "colab": {
          "base_uri": "https://localhost:8080/",
          "height": 377
        },
        "id": "9mBryAbo7OcL",
        "outputId": "2b0d212d-0c75-4ba0-85f3-08fc5c3c60bf"
      },
      "execution_count": null,
      "outputs": [
        {
          "output_type": "stream",
          "name": "stdout",
          "text": [
            "Mounted at /content/drive\n"
          ]
        },
        {
          "output_type": "execute_result",
          "data": {
            "text/plain": [
              "   year      country                 region  happiness_score  gdp_per_capita  \\\n",
              "0  2015  switzerland         western europe            7.587        84231.63   \n",
              "1  2015      iceland         western europe            7.561        53227.63   \n",
              "2  2015      denmark         western europe            7.527        53478.50   \n",
              "3  2015       norway         western europe            7.522        74568.14   \n",
              "4  2015       canada  north america and anz            7.427        43628.43   \n",
              "\n",
              "   social_support  healthy_life_expectancy  freedom_to_make_life_choices  \\\n",
              "0         1.34951                  0.94143                       0.66557   \n",
              "1         1.40223                  0.94784                       0.62877   \n",
              "2         1.36058                  0.87464                       0.64938   \n",
              "3         1.33095                  0.88521                       0.66973   \n",
              "4         1.32261                  0.90563                       0.63297   \n",
              "\n",
              "   generosity  perceptions_of_corruption                id  \\\n",
              "0     0.29678                    0.41978  switzerland_2015   \n",
              "1     0.43630                    0.14145      iceland_2015   \n",
              "2     0.34139                    0.48357      denmark_2015   \n",
              "3     0.34699                    0.36503       norway_2015   \n",
              "4     0.45811                    0.32957       canada_2015   \n",
              "\n",
              "   average monthly earnings  population_density  unemployment rate  \\\n",
              "0                  5966.104          209.668880              4.801   \n",
              "1                  4692.284            3.282376              3.979   \n",
              "2                  4931.349          142.092450              6.278   \n",
              "3                  5282.629           14.247059              4.296   \n",
              "4                  3212.450            4.091872              6.945   \n",
              "\n",
              "  weekly hours worked  maternity leave duration  \n",
              "0               36.22                       0.0  \n",
              "1               38.92                       0.0  \n",
              "2               32.67                       0.0  \n",
              "3                34.3                      91.0  \n",
              "4               35.55                       0.0  "
            ],
            "text/html": [
              "\n",
              "  <div id=\"df-7bca6292-9919-4fe3-a453-a24099c7d65a\" class=\"colab-df-container\">\n",
              "    <div>\n",
              "<style scoped>\n",
              "    .dataframe tbody tr th:only-of-type {\n",
              "        vertical-align: middle;\n",
              "    }\n",
              "\n",
              "    .dataframe tbody tr th {\n",
              "        vertical-align: top;\n",
              "    }\n",
              "\n",
              "    .dataframe thead th {\n",
              "        text-align: right;\n",
              "    }\n",
              "</style>\n",
              "<table border=\"1\" class=\"dataframe\">\n",
              "  <thead>\n",
              "    <tr style=\"text-align: right;\">\n",
              "      <th></th>\n",
              "      <th>year</th>\n",
              "      <th>country</th>\n",
              "      <th>region</th>\n",
              "      <th>happiness_score</th>\n",
              "      <th>gdp_per_capita</th>\n",
              "      <th>social_support</th>\n",
              "      <th>healthy_life_expectancy</th>\n",
              "      <th>freedom_to_make_life_choices</th>\n",
              "      <th>generosity</th>\n",
              "      <th>perceptions_of_corruption</th>\n",
              "      <th>id</th>\n",
              "      <th>average monthly earnings</th>\n",
              "      <th>population_density</th>\n",
              "      <th>unemployment rate</th>\n",
              "      <th>weekly hours worked</th>\n",
              "      <th>maternity leave duration</th>\n",
              "    </tr>\n",
              "  </thead>\n",
              "  <tbody>\n",
              "    <tr>\n",
              "      <th>0</th>\n",
              "      <td>2015</td>\n",
              "      <td>switzerland</td>\n",
              "      <td>western europe</td>\n",
              "      <td>7.587</td>\n",
              "      <td>84231.63</td>\n",
              "      <td>1.34951</td>\n",
              "      <td>0.94143</td>\n",
              "      <td>0.66557</td>\n",
              "      <td>0.29678</td>\n",
              "      <td>0.41978</td>\n",
              "      <td>switzerland_2015</td>\n",
              "      <td>5966.104</td>\n",
              "      <td>209.668880</td>\n",
              "      <td>4.801</td>\n",
              "      <td>36.22</td>\n",
              "      <td>0.0</td>\n",
              "    </tr>\n",
              "    <tr>\n",
              "      <th>1</th>\n",
              "      <td>2015</td>\n",
              "      <td>iceland</td>\n",
              "      <td>western europe</td>\n",
              "      <td>7.561</td>\n",
              "      <td>53227.63</td>\n",
              "      <td>1.40223</td>\n",
              "      <td>0.94784</td>\n",
              "      <td>0.62877</td>\n",
              "      <td>0.43630</td>\n",
              "      <td>0.14145</td>\n",
              "      <td>iceland_2015</td>\n",
              "      <td>4692.284</td>\n",
              "      <td>3.282376</td>\n",
              "      <td>3.979</td>\n",
              "      <td>38.92</td>\n",
              "      <td>0.0</td>\n",
              "    </tr>\n",
              "    <tr>\n",
              "      <th>2</th>\n",
              "      <td>2015</td>\n",
              "      <td>denmark</td>\n",
              "      <td>western europe</td>\n",
              "      <td>7.527</td>\n",
              "      <td>53478.50</td>\n",
              "      <td>1.36058</td>\n",
              "      <td>0.87464</td>\n",
              "      <td>0.64938</td>\n",
              "      <td>0.34139</td>\n",
              "      <td>0.48357</td>\n",
              "      <td>denmark_2015</td>\n",
              "      <td>4931.349</td>\n",
              "      <td>142.092450</td>\n",
              "      <td>6.278</td>\n",
              "      <td>32.67</td>\n",
              "      <td>0.0</td>\n",
              "    </tr>\n",
              "    <tr>\n",
              "      <th>3</th>\n",
              "      <td>2015</td>\n",
              "      <td>norway</td>\n",
              "      <td>western europe</td>\n",
              "      <td>7.522</td>\n",
              "      <td>74568.14</td>\n",
              "      <td>1.33095</td>\n",
              "      <td>0.88521</td>\n",
              "      <td>0.66973</td>\n",
              "      <td>0.34699</td>\n",
              "      <td>0.36503</td>\n",
              "      <td>norway_2015</td>\n",
              "      <td>5282.629</td>\n",
              "      <td>14.247059</td>\n",
              "      <td>4.296</td>\n",
              "      <td>34.3</td>\n",
              "      <td>91.0</td>\n",
              "    </tr>\n",
              "    <tr>\n",
              "      <th>4</th>\n",
              "      <td>2015</td>\n",
              "      <td>canada</td>\n",
              "      <td>north america and anz</td>\n",
              "      <td>7.427</td>\n",
              "      <td>43628.43</td>\n",
              "      <td>1.32261</td>\n",
              "      <td>0.90563</td>\n",
              "      <td>0.63297</td>\n",
              "      <td>0.45811</td>\n",
              "      <td>0.32957</td>\n",
              "      <td>canada_2015</td>\n",
              "      <td>3212.450</td>\n",
              "      <td>4.091872</td>\n",
              "      <td>6.945</td>\n",
              "      <td>35.55</td>\n",
              "      <td>0.0</td>\n",
              "    </tr>\n",
              "  </tbody>\n",
              "</table>\n",
              "</div>\n",
              "    <div class=\"colab-df-buttons\">\n",
              "\n",
              "  <div class=\"colab-df-container\">\n",
              "    <button class=\"colab-df-convert\" onclick=\"convertToInteractive('df-7bca6292-9919-4fe3-a453-a24099c7d65a')\"\n",
              "            title=\"Convert this dataframe to an interactive table.\"\n",
              "            style=\"display:none;\">\n",
              "\n",
              "  <svg xmlns=\"http://www.w3.org/2000/svg\" height=\"24px\" viewBox=\"0 -960 960 960\">\n",
              "    <path d=\"M120-120v-720h720v720H120Zm60-500h600v-160H180v160Zm220 220h160v-160H400v160Zm0 220h160v-160H400v160ZM180-400h160v-160H180v160Zm440 0h160v-160H620v160ZM180-180h160v-160H180v160Zm440 0h160v-160H620v160Z\"/>\n",
              "  </svg>\n",
              "    </button>\n",
              "\n",
              "  <style>\n",
              "    .colab-df-container {\n",
              "      display:flex;\n",
              "      gap: 12px;\n",
              "    }\n",
              "\n",
              "    .colab-df-convert {\n",
              "      background-color: #E8F0FE;\n",
              "      border: none;\n",
              "      border-radius: 50%;\n",
              "      cursor: pointer;\n",
              "      display: none;\n",
              "      fill: #1967D2;\n",
              "      height: 32px;\n",
              "      padding: 0 0 0 0;\n",
              "      width: 32px;\n",
              "    }\n",
              "\n",
              "    .colab-df-convert:hover {\n",
              "      background-color: #E2EBFA;\n",
              "      box-shadow: 0px 1px 2px rgba(60, 64, 67, 0.3), 0px 1px 3px 1px rgba(60, 64, 67, 0.15);\n",
              "      fill: #174EA6;\n",
              "    }\n",
              "\n",
              "    .colab-df-buttons div {\n",
              "      margin-bottom: 4px;\n",
              "    }\n",
              "\n",
              "    [theme=dark] .colab-df-convert {\n",
              "      background-color: #3B4455;\n",
              "      fill: #D2E3FC;\n",
              "    }\n",
              "\n",
              "    [theme=dark] .colab-df-convert:hover {\n",
              "      background-color: #434B5C;\n",
              "      box-shadow: 0px 1px 3px 1px rgba(0, 0, 0, 0.15);\n",
              "      filter: drop-shadow(0px 1px 2px rgba(0, 0, 0, 0.3));\n",
              "      fill: #FFFFFF;\n",
              "    }\n",
              "  </style>\n",
              "\n",
              "    <script>\n",
              "      const buttonEl =\n",
              "        document.querySelector('#df-7bca6292-9919-4fe3-a453-a24099c7d65a button.colab-df-convert');\n",
              "      buttonEl.style.display =\n",
              "        google.colab.kernel.accessAllowed ? 'block' : 'none';\n",
              "\n",
              "      async function convertToInteractive(key) {\n",
              "        const element = document.querySelector('#df-7bca6292-9919-4fe3-a453-a24099c7d65a');\n",
              "        const dataTable =\n",
              "          await google.colab.kernel.invokeFunction('convertToInteractive',\n",
              "                                                    [key], {});\n",
              "        if (!dataTable) return;\n",
              "\n",
              "        const docLinkHtml = 'Like what you see? Visit the ' +\n",
              "          '<a target=\"_blank\" href=https://colab.research.google.com/notebooks/data_table.ipynb>data table notebook</a>'\n",
              "          + ' to learn more about interactive tables.';\n",
              "        element.innerHTML = '';\n",
              "        dataTable['output_type'] = 'display_data';\n",
              "        await google.colab.output.renderOutput(dataTable, element);\n",
              "        const docLink = document.createElement('div');\n",
              "        docLink.innerHTML = docLinkHtml;\n",
              "        element.appendChild(docLink);\n",
              "      }\n",
              "    </script>\n",
              "  </div>\n",
              "\n",
              "\n",
              "<div id=\"df-8a8faf05-f3f8-4a96-8f9d-8c4521e5641b\">\n",
              "  <button class=\"colab-df-quickchart\" onclick=\"quickchart('df-8a8faf05-f3f8-4a96-8f9d-8c4521e5641b')\"\n",
              "            title=\"Suggest charts\"\n",
              "            style=\"display:none;\">\n",
              "\n",
              "<svg xmlns=\"http://www.w3.org/2000/svg\" height=\"24px\"viewBox=\"0 0 24 24\"\n",
              "     width=\"24px\">\n",
              "    <g>\n",
              "        <path d=\"M19 3H5c-1.1 0-2 .9-2 2v14c0 1.1.9 2 2 2h14c1.1 0 2-.9 2-2V5c0-1.1-.9-2-2-2zM9 17H7v-7h2v7zm4 0h-2V7h2v10zm4 0h-2v-4h2v4z\"/>\n",
              "    </g>\n",
              "</svg>\n",
              "  </button>\n",
              "\n",
              "<style>\n",
              "  .colab-df-quickchart {\n",
              "      --bg-color: #E8F0FE;\n",
              "      --fill-color: #1967D2;\n",
              "      --hover-bg-color: #E2EBFA;\n",
              "      --hover-fill-color: #174EA6;\n",
              "      --disabled-fill-color: #AAA;\n",
              "      --disabled-bg-color: #DDD;\n",
              "  }\n",
              "\n",
              "  [theme=dark] .colab-df-quickchart {\n",
              "      --bg-color: #3B4455;\n",
              "      --fill-color: #D2E3FC;\n",
              "      --hover-bg-color: #434B5C;\n",
              "      --hover-fill-color: #FFFFFF;\n",
              "      --disabled-bg-color: #3B4455;\n",
              "      --disabled-fill-color: #666;\n",
              "  }\n",
              "\n",
              "  .colab-df-quickchart {\n",
              "    background-color: var(--bg-color);\n",
              "    border: none;\n",
              "    border-radius: 50%;\n",
              "    cursor: pointer;\n",
              "    display: none;\n",
              "    fill: var(--fill-color);\n",
              "    height: 32px;\n",
              "    padding: 0;\n",
              "    width: 32px;\n",
              "  }\n",
              "\n",
              "  .colab-df-quickchart:hover {\n",
              "    background-color: var(--hover-bg-color);\n",
              "    box-shadow: 0 1px 2px rgba(60, 64, 67, 0.3), 0 1px 3px 1px rgba(60, 64, 67, 0.15);\n",
              "    fill: var(--button-hover-fill-color);\n",
              "  }\n",
              "\n",
              "  .colab-df-quickchart-complete:disabled,\n",
              "  .colab-df-quickchart-complete:disabled:hover {\n",
              "    background-color: var(--disabled-bg-color);\n",
              "    fill: var(--disabled-fill-color);\n",
              "    box-shadow: none;\n",
              "  }\n",
              "\n",
              "  .colab-df-spinner {\n",
              "    border: 2px solid var(--fill-color);\n",
              "    border-color: transparent;\n",
              "    border-bottom-color: var(--fill-color);\n",
              "    animation:\n",
              "      spin 1s steps(1) infinite;\n",
              "  }\n",
              "\n",
              "  @keyframes spin {\n",
              "    0% {\n",
              "      border-color: transparent;\n",
              "      border-bottom-color: var(--fill-color);\n",
              "      border-left-color: var(--fill-color);\n",
              "    }\n",
              "    20% {\n",
              "      border-color: transparent;\n",
              "      border-left-color: var(--fill-color);\n",
              "      border-top-color: var(--fill-color);\n",
              "    }\n",
              "    30% {\n",
              "      border-color: transparent;\n",
              "      border-left-color: var(--fill-color);\n",
              "      border-top-color: var(--fill-color);\n",
              "      border-right-color: var(--fill-color);\n",
              "    }\n",
              "    40% {\n",
              "      border-color: transparent;\n",
              "      border-right-color: var(--fill-color);\n",
              "      border-top-color: var(--fill-color);\n",
              "    }\n",
              "    60% {\n",
              "      border-color: transparent;\n",
              "      border-right-color: var(--fill-color);\n",
              "    }\n",
              "    80% {\n",
              "      border-color: transparent;\n",
              "      border-right-color: var(--fill-color);\n",
              "      border-bottom-color: var(--fill-color);\n",
              "    }\n",
              "    90% {\n",
              "      border-color: transparent;\n",
              "      border-bottom-color: var(--fill-color);\n",
              "    }\n",
              "  }\n",
              "</style>\n",
              "\n",
              "  <script>\n",
              "    async function quickchart(key) {\n",
              "      const quickchartButtonEl =\n",
              "        document.querySelector('#' + key + ' button');\n",
              "      quickchartButtonEl.disabled = true;  // To prevent multiple clicks.\n",
              "      quickchartButtonEl.classList.add('colab-df-spinner');\n",
              "      try {\n",
              "        const charts = await google.colab.kernel.invokeFunction(\n",
              "            'suggestCharts', [key], {});\n",
              "      } catch (error) {\n",
              "        console.error('Error during call to suggestCharts:', error);\n",
              "      }\n",
              "      quickchartButtonEl.classList.remove('colab-df-spinner');\n",
              "      quickchartButtonEl.classList.add('colab-df-quickchart-complete');\n",
              "    }\n",
              "    (() => {\n",
              "      let quickchartButtonEl =\n",
              "        document.querySelector('#df-8a8faf05-f3f8-4a96-8f9d-8c4521e5641b button');\n",
              "      quickchartButtonEl.style.display =\n",
              "        google.colab.kernel.accessAllowed ? 'block' : 'none';\n",
              "    })();\n",
              "  </script>\n",
              "</div>\n",
              "\n",
              "    </div>\n",
              "  </div>\n"
            ],
            "application/vnd.google.colaboratory.intrinsic+json": {
              "type": "dataframe",
              "variable_name": "df",
              "summary": "{\n  \"name\": \"df\",\n  \"rows\": 1152,\n  \"fields\": [\n    {\n      \"column\": \"year\",\n      \"properties\": {\n        \"dtype\": \"number\",\n        \"std\": 2,\n        \"min\": 2015,\n        \"max\": 2023,\n        \"num_unique_values\": 9,\n        \"samples\": [\n          2022,\n          2016,\n          2020\n        ],\n        \"semantic_type\": \"\",\n        \"description\": \"\"\n      }\n    },\n    {\n      \"column\": \"country\",\n      \"properties\": {\n        \"dtype\": \"category\",\n        \"num_unique_values\": 128,\n        \"samples\": [\n          \"croatia\",\n          \"japan\",\n          \"united arab emirates\"\n        ],\n        \"semantic_type\": \"\",\n        \"description\": \"\"\n      }\n    },\n    {\n      \"column\": \"region\",\n      \"properties\": {\n        \"dtype\": \"category\",\n        \"num_unique_values\": 10,\n        \"samples\": [\n          \"sub-saharan africa\",\n          \"north america and anz\",\n          \"central and eastern europe\"\n        ],\n        \"semantic_type\": \"\",\n        \"description\": \"\"\n      }\n    },\n    {\n      \"column\": \"happiness_score\",\n      \"properties\": {\n        \"dtype\": \"number\",\n        \"std\": 1.0960148703528547,\n        \"min\": 1.859,\n        \"max\": 7.842,\n        \"num_unique_values\": 1026,\n        \"samples\": [\n          5.524,\n          5.886,\n          6.886\n        ],\n        \"semantic_type\": \"\",\n        \"description\": \"\"\n      }\n    },\n    {\n      \"column\": \"gdp_per_capita\",\n      \"properties\": {\n        \"dtype\": \"number\",\n        \"std\": 22505.618331258574,\n        \"min\": 372.62,\n        \"max\": 134925.35,\n        \"num_unique_values\": 1151,\n        \"samples\": [\n          39411.42,\n          3573.84,\n          4078.18\n        ],\n        \"semantic_type\": \"\",\n        \"description\": \"\"\n      }\n    },\n    {\n      \"column\": \"social_support\",\n      \"properties\": {\n        \"dtype\": \"number\",\n        \"std\": 0.3213766597248902,\n        \"min\": 0.0,\n        \"max\": 1.644,\n        \"num_unique_values\": 995,\n        \"samples\": [\n          1.62,\n          1.463,\n          0.868\n        ],\n        \"semantic_type\": \"\",\n        \"description\": \"\"\n      }\n    },\n    {\n      \"column\": \"healthy_life_expectancy\",\n      \"properties\": {\n        \"dtype\": \"number\",\n        \"std\": 0.2361625091792421,\n        \"min\": 0.0,\n        \"max\": 1.141,\n        \"num_unique_values\": 933,\n        \"samples\": [\n          0.309,\n          0.72521,\n          0.842615008\n        ],\n        \"semantic_type\": \"\",\n        \"description\": \"\"\n      }\n    },\n    {\n      \"column\": \"freedom_to_make_life_choices\",\n      \"properties\": {\n        \"dtype\": \"number\",\n        \"std\": 0.15015445133558145,\n        \"min\": 0.0,\n        \"max\": 0.772,\n        \"num_unique_values\": 886,\n        \"samples\": [\n          0.26236,\n          0.653,\n          0.373684734\n        ],\n        \"semantic_type\": \"\",\n        \"description\": \"\"\n      }\n    },\n    {\n      \"column\": \"generosity\",\n      \"properties\": {\n        \"dtype\": \"number\",\n        \"std\": 0.1133041758347955,\n        \"min\": 0.0,\n        \"max\": 0.838075161,\n        \"num_unique_values\": 784,\n        \"samples\": [\n          0.212871477,\n          0.097207308,\n          0.25075\n        ],\n        \"semantic_type\": \"\",\n        \"description\": \"\"\n      }\n    },\n    {\n      \"column\": \"perceptions_of_corruption\",\n      \"properties\": {\n        \"dtype\": \"number\",\n        \"std\": 0.11349645406715647,\n        \"min\": 0.0,\n        \"max\": 0.587,\n        \"num_unique_values\": 780,\n        \"samples\": [\n          0.122592121,\n          0.086753383,\n          0.351701856\n        ],\n        \"semantic_type\": \"\",\n        \"description\": \"\"\n      }\n    },\n    {\n      \"column\": \"id\",\n      \"properties\": {\n        \"dtype\": \"string\",\n        \"num_unique_values\": 1152,\n        \"samples\": [\n          \"japan_2016\",\n          \"sri lanka_2020\",\n          \"turkiye_2019\"\n        ],\n        \"semantic_type\": \"\",\n        \"description\": \"\"\n      }\n    },\n    {\n      \"column\": \"average monthly earnings\",\n      \"properties\": {\n        \"dtype\": \"number\",\n        \"std\": 1726.671426051067,\n        \"min\": 71.392,\n        \"max\": 7860.333,\n        \"num_unique_values\": 696,\n        \"samples\": [\n          1148.898,\n          255.457,\n          4168.079\n        ],\n        \"semantic_type\": \"\",\n        \"description\": \"\"\n      }\n    },\n    {\n      \"column\": \"population_density\",\n      \"properties\": {\n        \"dtype\": \"number\",\n        \"std\": 943.6763348980211,\n        \"min\": 1.9110848,\n        \"max\": 8062.801,\n        \"num_unique_values\": 1151,\n        \"samples\": [\n          348.86133,\n          77.072975,\n          2.0338361\n        ],\n        \"semantic_type\": \"\",\n        \"description\": \"\"\n      }\n    },\n    {\n      \"column\": \"unemployment rate\",\n      \"properties\": {\n        \"dtype\": \"number\",\n        \"std\": 5.372854016349395,\n        \"min\": 0.081,\n        \"max\": 34.007,\n        \"num_unique_values\": 794,\n        \"samples\": [\n          6.805,\n          5.277,\n          11.888\n        ],\n        \"semantic_type\": \"\",\n        \"description\": \"\"\n      }\n    },\n    {\n      \"column\": \"weekly hours worked\",\n      \"properties\": {\n        \"dtype\": \"category\",\n        \"num_unique_values\": 381,\n        \"samples\": [\n          \"40.23\",\n          \"32.62\",\n          \"43.33\"\n        ],\n        \"semantic_type\": \"\",\n        \"description\": \"\"\n      }\n    },\n    {\n      \"column\": \"maternity leave duration\",\n      \"properties\": {\n        \"dtype\": \"number\",\n        \"std\": 84.3125084675433,\n        \"min\": 0.0,\n        \"max\": 1095.0,\n        \"num_unique_values\": 24,\n        \"samples\": [\n          30.0,\n          14.0,\n          0.0\n        ],\n        \"semantic_type\": \"\",\n        \"description\": \"\"\n      }\n    }\n  ]\n}"
            }
          },
          "metadata": {},
          "execution_count": 2
        }
      ]
    },
    {
      "cell_type": "code",
      "source": [
        "df.info()"
      ],
      "metadata": {
        "colab": {
          "base_uri": "https://localhost:8080/"
        },
        "id": "6KaFLXOXBZGE",
        "outputId": "e62b5033-99e0-4f1a-d7c9-01433d0cae04"
      },
      "execution_count": null,
      "outputs": [
        {
          "output_type": "stream",
          "name": "stdout",
          "text": [
            "<class 'pandas.core.frame.DataFrame'>\n",
            "RangeIndex: 1152 entries, 0 to 1151\n",
            "Data columns (total 16 columns):\n",
            " #   Column                        Non-Null Count  Dtype  \n",
            "---  ------                        --------------  -----  \n",
            " 0   year                          1152 non-null   int64  \n",
            " 1   country                       1152 non-null   object \n",
            " 2   region                        1152 non-null   object \n",
            " 3   happiness_score               1152 non-null   float64\n",
            " 4   gdp_per_capita                1152 non-null   float64\n",
            " 5   social_support                1152 non-null   float64\n",
            " 6   healthy_life_expectancy       1152 non-null   float64\n",
            " 7   freedom_to_make_life_choices  1152 non-null   float64\n",
            " 8   generosity                    1152 non-null   float64\n",
            " 9   perceptions_of_corruption     1152 non-null   float64\n",
            " 10  id                            1152 non-null   object \n",
            " 11  average monthly earnings      696 non-null    float64\n",
            " 12  population_density            1152 non-null   float64\n",
            " 13  unemployment rate             833 non-null    float64\n",
            " 14  weekly hours worked           462 non-null    object \n",
            " 15  maternity leave duration      1089 non-null   float64\n",
            "dtypes: float64(11), int64(1), object(4)\n",
            "memory usage: 144.1+ KB\n"
          ]
        }
      ]
    },
    {
      "cell_type": "code",
      "source": [
        "import pandas as pd\n",
        "import matplotlib.pyplot as plt\n",
        "import seaborn as sns\n",
        "\n",
        "# Sélectionner les colonnes numériques pour l'analyse\n",
        "df_numeric = df[['population_density']]\n",
        "\n",
        "# Créer des boxplots pour chaque colonne, un par un\n",
        "for col in df_numeric.columns:\n",
        "    plt.figure(figsize=(8, 6))\n",
        "    sns.boxplot(x=df_numeric[col])\n",
        "    plt.title(f\"Boxplot of {col}\")\n",
        "    plt.show()"
      ],
      "metadata": {
        "colab": {
          "base_uri": "https://localhost:8080/",
          "height": 564
        },
        "id": "UaZwsRbTidob",
        "outputId": "05400fcb-b802-4c57-c9bf-1d54b547097b"
      },
      "execution_count": null,
      "outputs": [
        {
          "output_type": "display_data",
          "data": {
            "text/plain": [
              "<Figure size 800x600 with 1 Axes>"
            ],
            "image/png": "[encoded data removed]"
          },
          "metadata": {}
        }
      ]
    },
    {
      "cell_type": "code",
      "source": [
        "# Sélectionner les colonnes numériques pour l'analyse\n",
        "df_numeric = df[['population_density']]\n",
        "\n",
        "# Créer des histogrammes pour chaque colonne\n",
        "for col in df_numeric.columns:\n",
        "    plt.figure(figsize=(4, 3))\n",
        "    sns.histplot(df[col], kde=True)\n",
        "    plt.title(f\"Histogram of {col.replace('_', ' ').title()}\")\n",
        "    plt.xlabel(col.replace('_', ' ').title())\n",
        "    plt.ylabel(\"Frequency\")\n",
        "    plt.show()"
      ],
      "metadata": {
        "colab": {
          "base_uri": "https://localhost:8080/",
          "height": 333
        },
        "id": "YIZp0ZXalav9",
        "outputId": "4def55cf-a4bc-4a42-953b-a626c56c1114"
      },
      "execution_count": null,
      "outputs": [
        {
          "output_type": "display_data",
          "data": {
            "text/plain": [
              "<Figure size 400x300 with 1 Axes>"
            ],
            "image/png": "[encoded data removed]"
          },
          "metadata": {}
        }
      ]
    },
    {
      "cell_type": "markdown",
      "source": [
        "Conclusions:"
      ],
      "metadata": {
        "id": "2dVjzq4i-Vyi"
      }
    },
    {
      "cell_type": "markdown",
      "source": [
        "## Modeling"
      ],
      "metadata": {
        "id": "XISZq7k6z_Yz"
      }
    },
    {
      "cell_type": "markdown",
      "source": [
        "### Preprocessing"
      ],
      "metadata": {
        "id": "B6zJe23-4Uo0"
      }
    },
    {
      "cell_type": "code",
      "source": [
        "# Select relevant columns for X and y\n",
        "X = df[['gdp_per_capita', 'social_support', 'healthy_life_expectancy',\n",
        "         'freedom_to_make_life_choices', 'generosity', 'perceptions_of_corruption', 'population_density']]\n",
        "y = df['happiness_score']"
      ],
      "metadata": {
        "id": "S_rsXBZS4Y8b"
      },
      "execution_count": null,
      "outputs": []
    },
    {
      "cell_type": "code",
      "source": [
        "# Split into train and test split\n",
        "from sklearn.model_selection import train_test_split\n",
        "X_train, X_test, y_train, y_test = train_test_split(X, y, test_size = 0.2, random_state=42)"
      ],
      "metadata": {
        "id": "eBPRF8P14gEL"
      },
      "execution_count": null,
      "outputs": []
    },
    {
      "cell_type": "code",
      "source": [
        "# Scale\n",
        "from sklearn.preprocessing import StandardScaler\n",
        "scaler = StandardScaler()\n",
        "X_train_scaled = scaler.fit_transform(X_train)\n",
        "X_test_scaled = scaler.transform(X_test)"
      ],
      "metadata": {
        "id": "lDZvenwQ4khh"
      },
      "execution_count": null,
      "outputs": []
    },
    {
      "cell_type": "code",
      "source": [
        "# Train a Linear Regression model that predicts happiness_score (our y) based on our X variables.\n",
        "\n",
        "from sklearn.linear_model import LinearRegression\n",
        "model_1 = LinearRegression().fit(X_train_scaled, y_train)"
      ],
      "metadata": {
        "id": "GCMdSvIy4o95"
      },
      "execution_count": null,
      "outputs": []
    },
    {
      "cell_type": "markdown",
      "source": [
        "### Evaluation"
      ],
      "metadata": {
        "id": "FCvcDLYtI3sb"
      }
    },
    {
      "cell_type": "code",
      "source": [
        "# Score the model\n",
        "\n",
        "from sklearn.metrics import r2_score, mean_squared_error, mean_absolute_error\n",
        "\n",
        "# Make predictions on the test set\n",
        "y_pred = model_1.predict(X_test_scaled)\n",
        "\n",
        "# Evaluate the model\n",
        "r2 = r2_score(y_test, y_pred)\n",
        "mse = mean_squared_error(y_test, y_pred)\n",
        "mae = mean_absolute_error(y_test, y_pred)\n",
        "\n",
        "print(\"R-squared:\", r2)\n",
        "print(\"Mean Squared Error:\", mse)\n",
        "print(\"Mean Absolute Error:\", mae)"
      ],
      "metadata": {
        "colab": {
          "base_uri": "https://localhost:8080/"
        },
        "id": "Wa0fCmuO41ni",
        "outputId": "8f0231ab-5de2-41ed-8b1d-be0f1c3d19f9"
      },
      "execution_count": null,
      "outputs": [
        {
          "output_type": "stream",
          "name": "stdout",
          "text": [
            "R-squared: 0.7395260472188796\n",
            "Mean Squared Error: 0.2820454157257476\n",
            "Mean Absolute Error: 0.4115585670381258\n"
          ]
        }
      ]
    },
    {
      "cell_type": "markdown",
      "source": [
        "## Coefficients et leur interprétation"
      ],
      "metadata": {
        "id": "dZHxCcw9CUCc"
      }
    },
    {
      "cell_type": "code",
      "source": [
        "# Obtenir les coefficients du modèle\n",
        "coefficients = model_1.coef_\n",
        "intercept = model_1.intercept_\n",
        "\n",
        "# Afficher les coefficients\n",
        "print(\"Intercept:\", intercept)\n",
        "print(\"Coefficients:\", coefficients)\n",
        "\n",
        "# Associer les coefficients aux noms des colonnes pour une interprétation plus facile\n",
        "for name, coef in zip(X.columns, coefficients):\n",
        "    print(f\"{name}: {coef}\")"
      ],
      "metadata": {
        "colab": {
          "base_uri": "https://localhost:8080/"
        },
        "id": "YaLkUC4R8CLc",
        "outputId": "7a6b4d43-2a3c-43e6-c185-c77109f82dfd"
      },
      "execution_count": null,
      "outputs": [
        {
          "output_type": "stream",
          "name": "stdout",
          "text": [
            "Intercept: 5.553365037648209\n",
            "Coefficients: [ 0.37907963  0.24253441  0.34954466  0.26341459 -0.02615206  0.06966825\n",
            " -0.1442762 ]\n",
            "gdp_per_capita: 0.37907962969562903\n",
            "social_support: 0.24253441453127011\n",
            "healthy_life_expectancy: 0.3495446595462038\n",
            "freedom_to_make_life_choices: 0.26341458903275927\n",
            "generosity: -0.02615205948290232\n",
            "perceptions_of_corruption: 0.0696682527609351\n",
            "population_density: -0.14427619626715393\n"
          ]
        }
      ]
    },
    {
      "cell_type": "markdown",
      "source": [
        "## Variance Inflation Factor (VIF)"
      ],
      "metadata": {
        "id": "lzDyTH1wCixJ"
      }
    },
    {
      "cell_type": "code",
      "source": [
        "import statsmodels.api as sm\n",
        "from statsmodels.stats.outliers_influence import variance_inflation_factor\n",
        "\n",
        "# Utiliser les mêmes données que pour la régression linéaire\n",
        "X = df[['gdp_per_capita', 'social_support', 'healthy_life_expectancy',\n",
        "        'freedom_to_make_life_choices', 'generosity', 'perceptions_of_corruption', 'population_density']]\n",
        "\n",
        "# Ajouter une constante pour l'intercept\n",
        "X = sm.add_constant(X)\n",
        "\n",
        "# Calcul du VIF pour chaque variable\n",
        "vif_data = pd.DataFrame()\n",
        "vif_data[\"feature\"] = X.columns\n",
        "vif_data[\"VIF\"] = [variance_inflation_factor(X.values, i) for i in range(X.shape[1])]\n",
        "\n",
        "# Afficher les résultats\n",
        "print(vif_data)"
      ],
      "metadata": {
        "colab": {
          "base_uri": "https://localhost:8080/"
        },
        "id": "PHp_3_yYCykm",
        "outputId": "e7a5c7d3-e114-4156-bdc6-6b04b555f6a5"
      },
      "execution_count": null,
      "outputs": [
        {
          "output_type": "stream",
          "name": "stdout",
          "text": [
            "                        feature        VIF\n",
            "0                         const  23.905222\n",
            "1                gdp_per_capita   2.844275\n",
            "2                social_support   1.695833\n",
            "3       healthy_life_expectancy   1.776078\n",
            "4  freedom_to_make_life_choices   1.442710\n",
            "5                    generosity   1.074538\n",
            "6     perceptions_of_corruption   2.471053\n",
            "7            population_density   1.161221\n"
          ]
        }
      ]
    },
    {
      "cell_type": "markdown",
      "source": [
        "\n",
        "# RANSAC MODEL"
      ],
      "metadata": {
        "id": "W_YoAalanYUf"
      }
    },
    {
      "cell_type": "code",
      "source": [
        "# Importer les bibliothèques nécessaires\n",
        "import numpy as np\n",
        "from sklearn.linear_model import LinearRegression, RANSACRegressor\n",
        "from sklearn.metrics import r2_score, mean_squared_error\n",
        "import matplotlib.pyplot as plt\n",
        "\n",
        "# Initialisation du modèle de régression linéaire et du modèle RANSAC\n",
        "linear_model = LinearRegression()\n",
        "ransac = RANSACRegressor(estimator=linear_model,\n",
        "                         min_samples=50,        # Nombre minimum d'échantillons pour ajuster le modèle\n",
        "                         residual_threshold=10,  # Seuil pour identifier les inliers\n",
        "                         max_trials=100)         # Nombre maximum d'itérations pour trouver un bon modèle\n",
        "\n",
        "# Entraînement du modèle RANSAC\n",
        "ransac.fit(X, y)\n",
        "\n",
        "# Obtenir les prédictions et afficher les coefficients du modèle\n",
        "y_pred = ransac.predict(X)\n",
        "\n",
        "# Afficher les coefficients et l'intercept\n",
        "print(f\"Intercept: {ransac.estimator_.intercept_}\")\n",
        "print(f\"Coefficients: {ransac.estimator_.coef_}\")\n",
        "\n",
        "# Associer les coefficients aux noms des colonnes pour une interprétation plus facile\n",
        "for name, coef in zip(X.columns, ransac.estimator_.coef_):\n",
        "    print(f\"{name}: {coef}\")\n",
        "\n",
        "# Évaluer les performances du modèle\n",
        "r2 = r2_score(y, y_pred)\n",
        "mse = mean_squared_error(y, y_pred)\n",
        "\n",
        "print(f\"R2 Score: {r2}\")\n",
        "print(f\"Mean Squared Error: {mse}\")\n",
        "\n",
        "# Identifier les inliers et outliers\n",
        "inlier_mask = ransac.inlier_mask_  # Masque des inliers\n",
        "outlier_mask = np.logical_not(inlier_mask)  # Masque des outliers\n",
        "\n",
        "# Affichage des inliers et outliers\n",
        "print(f\"Nombre d'inliers: {np.sum(inlier_mask)}\")\n",
        "print(f\"Nombre d'outliers: {np.sum(outlier_mask)}\")"
      ],
      "metadata": {
        "colab": {
          "base_uri": "https://localhost:8080/"
        },
        "id": "vBQRPBXAK9y8",
        "outputId": "fb85242b-b720-4c59-929f-6256b3d1e962"
      },
      "execution_count": null,
      "outputs": [
        {
          "output_type": "stream",
          "name": "stdout",
          "text": [
            "Intercept: 2.739326985069182\n",
            "Coefficients: [ 0.00000000e+00  1.62957595e-05  7.36763289e-01  1.48986689e+00\n",
            "  1.81818095e+00 -1.04406309e-01  5.39184051e-01 -1.52242910e-04]\n",
            "const: 0.0\n",
            "gdp_per_capita: 1.629575952089994e-05\n",
            "social_support: 0.7367632887574812\n",
            "healthy_life_expectancy: 1.4898668898072946\n",
            "freedom_to_make_life_choices: 1.8181809530813096\n",
            "generosity: -0.10440630891666675\n",
            "perceptions_of_corruption: 0.5391840512262772\n",
            "population_density: -0.0001522429096976373\n",
            "R2 Score: 0.7464987158880815\n",
            "Mean Squared Error: 0.3042537230372396\n",
            "Nombre d'inliers: 1152\n",
            "Nombre d'outliers: 0\n"
          ]
        }
      ]
    },
    {
      "cell_type": "code",
      "source": [
        "# Importer les bibliothèques nécessaires\n",
        "import numpy as np\n",
        "from sklearn.linear_model import LinearRegression, RANSACRegressor\n",
        "from sklearn.metrics import r2_score, mean_squared_error\n",
        "import matplotlib.pyplot as plt\n",
        "\n",
        "# Initialisation du modèle de régression linéaire et du modèle RANSAC\n",
        "linear_model = LinearRegression()\n",
        "ransac = RANSACRegressor(estimator=linear_model,\n",
        "                         min_samples=0.9,        # Nombre minimum d'échantillons pour ajuster le modèle\n",
        "                         max_trials=100)         # Nombre maximum d'itérations pour trouver un bon modèle\n",
        "\n",
        "# Entraînement du modèle RANSAC\n",
        "ransac.fit(X, y)\n",
        "\n",
        "# Obtenir les prédictions et afficher les coefficients du modèle\n",
        "y_pred = ransac.predict(X)\n",
        "\n",
        "# Afficher les coefficients et l'intercept\n",
        "print(f\"Intercept: {ransac.estimator_.intercept_}\")\n",
        "print(f\"Coefficients: {ransac.estimator_.coef_}\")\n",
        "\n",
        "# Associer les coefficients aux noms des colonnes pour une interprétation plus facile\n",
        "for name, coef in zip(X.columns, ransac.estimator_.coef_):\n",
        "    print(f\"{name}: {coef}\")\n",
        "\n",
        "# Évaluer les performances du modèle\n",
        "r2 = r2_score(y, y_pred)\n",
        "mse = mean_squared_error(y, y_pred)\n",
        "\n",
        "print(f\"R2 Score: {r2}\")\n",
        "print(f\"Mean Squared Error: {mse}\")\n",
        "\n",
        "# Identifier les inliers et outliers\n",
        "inlier_mask = ransac.inlier_mask_  # Masque des inliers\n",
        "outlier_mask = np.logical_not(inlier_mask)  # Masque des outliers\n",
        "\n",
        "# Affichage des inliers et outliers\n",
        "print(f\"Nombre d'inliers: {np.sum(inlier_mask)}\")\n",
        "print(f\"Nombre d'outliers: {np.sum(outlier_mask)}\")"
      ],
      "metadata": {
        "colab": {
          "base_uri": "https://localhost:8080/"
        },
        "id": "LuZzpgvbTV2T",
        "outputId": "de5d0fa4-6564-4220-b717-96e35c684d2a"
      },
      "execution_count": null,
      "outputs": [
        {
          "output_type": "stream",
          "name": "stdout",
          "text": [
            "Intercept: 2.7475089426366077\n",
            "Coefficients: [ 0.00000000e+00  1.65670685e-05  6.98914667e-01  1.41117430e+00\n",
            "  2.15046328e+00 -2.44559371e-01  4.67100157e-01 -1.62714413e-04]\n",
            "const: 0.0\n",
            "gdp_per_capita: 1.656706846671125e-05\n",
            "social_support: 0.6989146666744704\n",
            "healthy_life_expectancy: 1.4111743027504253\n",
            "freedom_to_make_life_choices: 2.150463277547502\n",
            "generosity: -0.24455937097339567\n",
            "perceptions_of_corruption: 0.46710015685548306\n",
            "population_density: -0.00016271441253022726\n",
            "R2 Score: 0.7432440222514428\n",
            "Mean Squared Error: 0.30816002536530096\n",
            "Nombre d'inliers: 994\n",
            "Nombre d'outliers: 158\n"
          ]
        }
      ]
    },
    {
      "cell_type": "code",
      "source": [
        "# prompt: affiche les outliers\n",
        "\n",
        "# Afficher les outliers\n",
        "outliers = df[outlier_mask]\n",
        "print(outliers)\n"
      ],
      "metadata": {
        "colab": {
          "base_uri": "https://localhost:8080/"
        },
        "id": "D0BlSK2XVXBg",
        "outputId": "d9c7cc1f-c0c9-4894-8bf1-1ea9bf750d7d"
      },
      "execution_count": null,
      "outputs": [
        {
          "output_type": "stream",
          "name": "stdout",
          "text": [
            "      year      country                        region  happiness_score  \\\n",
            "10    2015       israel  middle east and north africa            7.278   \n",
            "11    2015   costa rica   latin america and caribbean            7.226   \n",
            "13    2015       mexico   latin america and caribbean            7.187   \n",
            "15    2015       brazil   latin america and caribbean            6.983   \n",
            "16    2015   luxembourg                western europe            6.946   \n",
            "...    ...          ...                           ...              ...   \n",
            "1145  2023     tanzania            sub-saharan africa            3.694   \n",
            "1147  2023     botswana            sub-saharan africa            3.435   \n",
            "1148  2023     zimbabwe            sub-saharan africa            3.204   \n",
            "1150  2023      lebanon  middle east and north africa            2.392   \n",
            "1151  2023  afghanistan                    south asia            1.859   \n",
            "\n",
            "      gdp_per_capita  social_support  healthy_life_expectancy  \\\n",
            "10          36138.71         1.22393                  0.91387   \n",
            "11          11635.20         1.23788                  0.86027   \n",
            "13           9915.09         0.91451                  0.81444   \n",
            "15           9183.00         1.23287                  0.69702   \n",
            "16         106710.27         1.21963                  0.91894   \n",
            "...              ...             ...                      ...   \n",
            "1145         1254.23         0.78700                  0.21400   \n",
            "1147         7642.01         1.04100                  0.08700   \n",
            "1148         1993.04         0.88100                  0.06900   \n",
            "1150         6330.57         0.47600                  0.39800   \n",
            "1151          372.62         0.00000                  0.08700   \n",
            "\n",
            "      freedom_to_make_life_choices  generosity  perceptions_of_corruption  \\\n",
            "10                         0.41319     0.33172                    0.07785   \n",
            "11                         0.63376     0.25497                    0.10583   \n",
            "13                         0.48181     0.14074                    0.21312   \n",
            "15                         0.49049     0.14574                    0.17521   \n",
            "16                         0.61583     0.28034                    0.37798   \n",
            "...                            ...         ...                        ...   \n",
            "1145                       0.60700     0.23400                    0.26900   \n",
            "1147                       0.48000     0.02100                    0.07100   \n",
            "1148                       0.36300     0.11200                    0.11700   \n",
            "1150                       0.12300     0.06100                    0.02700   \n",
            "1151                       0.00000     0.09300                    0.05900   \n",
            "\n",
            "                    id  average monthly earnings  population_density  \\\n",
            "10         israel_2015                  2444.921          372.131000   \n",
            "11     costa rica_2015                   987.927           94.360435   \n",
            "13         mexico_2015                   350.079           62.281597   \n",
            "15         brazil_2015                   514.173           24.129236   \n",
            "16     luxembourg_2015                  5247.951          221.227340   \n",
            "...                ...                       ...                 ...   \n",
            "1145     tanzania_2023                       NaN           75.206150   \n",
            "1147     botswana_2023                   477.336            4.376409   \n",
            "1148     zimbabwe_2023                       NaN           42.240738   \n",
            "1150      lebanon_2023                       NaN          564.368700   \n",
            "1151  afghanistan_2023                       NaN           63.558502   \n",
            "\n",
            "      unemployment rate weekly hours worked  maternity leave duration  \n",
            "10                5.176                 NaN                       0.0  \n",
            "11                8.415               42.98                       0.0  \n",
            "13                4.311               43.39                       0.0  \n",
            "15                8.538                39.0                       0.0  \n",
            "16                6.796                 NaN                     180.0  \n",
            "...                 ...                 ...                       ...  \n",
            "1145                NaN                 NaN                       0.0  \n",
            "1147             23.381               43.42                       0.0  \n",
            "1148                NaN                 NaN                       0.0  \n",
            "1150                NaN                 NaN                       0.0  \n",
            "1151                NaN                 NaN                       0.0  \n",
            "\n",
            "[158 rows x 16 columns]\n"
          ]
        }
      ]
    }
  ]
}